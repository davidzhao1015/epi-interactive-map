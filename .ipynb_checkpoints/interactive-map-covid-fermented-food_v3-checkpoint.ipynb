{
 "cells": [
  {
   "cell_type": "markdown",
   "metadata": {},
   "source": [
    "# Beyond Heatmaps: Mapping Two Variables with Plotly in Public Health  \n",
    "**Interactive Maps Exploring Relationships Between Fermented Vegetables and Covid-19 Mortality Rates**\n",
    "\n",
    "by Xin (David) Zhao  \n",
    "updated on April 21, 2025\n",
    "\n",
    "In 2020, a [preprint](https://www.medrxiv.org/content/10.1101/2020.07.06.20147025v1) suggested that fermented vegetable consumption might be inversely associated with COVID-19 mortality in Europe—even after adjusting for confounding factors. I wanted to explore that hypothesis using public data and an interactive map."
   ]
  },
  {
   "cell_type": "markdown",
   "metadata": {},
   "source": [
    "## Load Modules"
   ]
  },
  {
   "cell_type": "code",
   "execution_count": 6,
   "metadata": {},
   "outputs": [],
   "source": [
    "# Core data handling\n",
    "import pandas as pd\n",
    "import numpy as np\n",
    "import matplotlib.pyplot as plt\n",
    "import seaborn as sns\n",
    "\n",
    "# Interactive map visualization\n",
    "import plotly.express as px # Creating chorppleth and scatter_geo maps\n",
    "import plotly.graph_objects as go # Overalaying plot layers and annotation\n",
    "\n",
    "# For geospatial data \n",
    "import requests # Fetching GeoJSON data from remote URL \n",
    "import json # Parsing JSON data\n",
    "import pycountry # Mapping country names to ISO alpha-3 codes\n",
    "\n",
    "# For exporting maps\n",
    "import plotly.io as pio # Exporting Plotly figures as HTML\n",
    "import kaleido  # Saving Plotly maps as static images (optional)"
   ]
  },
  {
   "cell_type": "markdown",
   "metadata": {},
   "source": [
    "## Preparing the Epidemiological Data"
   ]
  },
  {
   "cell_type": "markdown",
   "metadata": {},
   "source": [
    "### COVID-19 Mortality Rates Dataset"
   ]
  },
  {
   "cell_type": "code",
   "execution_count": 7,
   "metadata": {},
   "outputs": [],
   "source": [
    "covid_death_pop_df = pd.read_csv('covid_mortality_rate.csv')"
   ]
  },
  {
   "cell_type": "code",
   "execution_count": 8,
   "metadata": {},
   "outputs": [
    {
     "data": {
      "text/html": [
       "<div>\n",
       "<style scoped>\n",
       "    .dataframe tbody tr th:only-of-type {\n",
       "        vertical-align: middle;\n",
       "    }\n",
       "\n",
       "    .dataframe tbody tr th {\n",
       "        vertical-align: top;\n",
       "    }\n",
       "\n",
       "    .dataframe thead th {\n",
       "        text-align: right;\n",
       "    }\n",
       "</style>\n",
       "<table border=\"1\" class=\"dataframe\">\n",
       "  <thead>\n",
       "    <tr style=\"text-align: right;\">\n",
       "      <th></th>\n",
       "      <th>Country</th>\n",
       "      <th>Year</th>\n",
       "      <th>Population</th>\n",
       "      <th>Deaths</th>\n",
       "      <th>Death Rate</th>\n",
       "    </tr>\n",
       "  </thead>\n",
       "  <tbody>\n",
       "    <tr>\n",
       "      <th>0</th>\n",
       "      <td>European Economic Area (EU28 - 2013-2020 and I...</td>\n",
       "      <td>2020</td>\n",
       "      <td>519811603.0</td>\n",
       "      <td>0.0</td>\n",
       "      <td>0.000000</td>\n",
       "    </tr>\n",
       "    <tr>\n",
       "      <th>1</th>\n",
       "      <td>European Union - 27 countries (from 2020)</td>\n",
       "      <td>2020</td>\n",
       "      <td>447015600.0</td>\n",
       "      <td>0.0</td>\n",
       "      <td>0.000000</td>\n",
       "    </tr>\n",
       "    <tr>\n",
       "      <th>2</th>\n",
       "      <td>Euro area – 20 countries (from 2023)</td>\n",
       "      <td>2020</td>\n",
       "      <td>346625682.0</td>\n",
       "      <td>0.0</td>\n",
       "      <td>0.000000</td>\n",
       "    </tr>\n",
       "    <tr>\n",
       "      <th>3</th>\n",
       "      <td>Germany</td>\n",
       "      <td>2020</td>\n",
       "      <td>83166711.0</td>\n",
       "      <td>2890473.0</td>\n",
       "      <td>0.034755</td>\n",
       "    </tr>\n",
       "    <tr>\n",
       "      <th>4</th>\n",
       "      <td>Germany including former GDR</td>\n",
       "      <td>2020</td>\n",
       "      <td>83166711.0</td>\n",
       "      <td>0.0</td>\n",
       "      <td>0.000000</td>\n",
       "    </tr>\n",
       "  </tbody>\n",
       "</table>\n",
       "</div>"
      ],
      "text/plain": [
       "                                             Country  Year   Population  \\\n",
       "0  European Economic Area (EU28 - 2013-2020 and I...  2020  519811603.0   \n",
       "1          European Union - 27 countries (from 2020)  2020  447015600.0   \n",
       "2               Euro area – 20 countries (from 2023)  2020  346625682.0   \n",
       "3                                            Germany  2020   83166711.0   \n",
       "4                       Germany including former GDR  2020   83166711.0   \n",
       "\n",
       "      Deaths  Death Rate  \n",
       "0        0.0    0.000000  \n",
       "1        0.0    0.000000  \n",
       "2        0.0    0.000000  \n",
       "3  2890473.0    0.034755  \n",
       "4        0.0    0.000000  "
      ]
     },
     "execution_count": 8,
     "metadata": {},
     "output_type": "execute_result"
    }
   ],
   "source": [
    "covid_death_pop_df.head()"
   ]
  },
  {
   "cell_type": "markdown",
   "metadata": {},
   "source": [
    "### Fermented Vegetable Consumption Dataset"
   ]
  },
  {
   "cell_type": "code",
   "execution_count": 9,
   "metadata": {},
   "outputs": [],
   "source": [
    "avg_consumption_country = pd.read_csv('fermented_food_consumption.csv')"
   ]
  },
  {
   "cell_type": "code",
   "execution_count": 10,
   "metadata": {},
   "outputs": [
    {
     "data": {
      "text/html": [
       "<div>\n",
       "<style scoped>\n",
       "    .dataframe tbody tr th:only-of-type {\n",
       "        vertical-align: middle;\n",
       "    }\n",
       "\n",
       "    .dataframe tbody tr th {\n",
       "        vertical-align: top;\n",
       "    }\n",
       "\n",
       "    .dataframe thead th {\n",
       "        text-align: right;\n",
       "    }\n",
       "</style>\n",
       "<table border=\"1\" class=\"dataframe\">\n",
       "  <thead>\n",
       "    <tr style=\"text-align: right;\">\n",
       "      <th></th>\n",
       "      <th>Country</th>\n",
       "      <th>Average Consumption</th>\n",
       "    </tr>\n",
       "  </thead>\n",
       "  <tbody>\n",
       "    <tr>\n",
       "      <th>0</th>\n",
       "      <td>Austria</td>\n",
       "      <td>2.660731</td>\n",
       "    </tr>\n",
       "    <tr>\n",
       "      <th>1</th>\n",
       "      <td>Belgium</td>\n",
       "      <td>0.454854</td>\n",
       "    </tr>\n",
       "    <tr>\n",
       "      <th>2</th>\n",
       "      <td>Bosnia and Herzegovina</td>\n",
       "      <td>5.906935</td>\n",
       "    </tr>\n",
       "    <tr>\n",
       "      <th>3</th>\n",
       "      <td>Bulgaria</td>\n",
       "      <td>1.235104</td>\n",
       "    </tr>\n",
       "    <tr>\n",
       "      <th>4</th>\n",
       "      <td>Croatia</td>\n",
       "      <td>3.958930</td>\n",
       "    </tr>\n",
       "  </tbody>\n",
       "</table>\n",
       "</div>"
      ],
      "text/plain": [
       "                  Country  Average Consumption\n",
       "0                 Austria             2.660731\n",
       "1                 Belgium             0.454854\n",
       "2  Bosnia and Herzegovina             5.906935\n",
       "3                Bulgaria             1.235104\n",
       "4                 Croatia             3.958930"
      ]
     },
     "execution_count": 10,
     "metadata": {},
     "output_type": "execute_result"
    }
   ],
   "source": [
    "avg_consumption_country.head()"
   ]
  },
  {
   "cell_type": "markdown",
   "metadata": {},
   "source": [
    "### Getting Geospatial Data"
   ]
  },
  {
   "cell_type": "code",
   "execution_count": 11,
   "metadata": {
    "vscode": {
     "languageId": "r"
    }
   },
   "outputs": [],
   "source": [
    "# Fetch GeoJSON for Europe\n",
    "import requests\n",
    "import json\n",
    "    "
   ]
  },
  {
   "cell_type": "code",
   "execution_count": 12,
   "metadata": {
    "vscode": {
     "languageId": "r"
    }
   },
   "outputs": [],
   "source": [
    "# URL for countries' GeoJSON data\n",
    "url = \"https://raw.githubusercontent.com/datasets/geo-countries/master/data/countries.geojson\"\n",
    "\n",
    "# Fetch the data\n",
    "response = requests.get(url)\n",
    "geojson_data = response.json()"
   ]
  },
  {
   "cell_type": "code",
   "execution_count": 13,
   "metadata": {
    "vscode": {
     "languageId": "r"
    }
   },
   "outputs": [
    {
     "ename": "NameError",
     "evalue": "name 'food_df' is not defined",
     "output_type": "error",
     "traceback": [
      "\u001b[0;31m---------------------------------------------------------------------------\u001b[0m",
      "\u001b[0;31mNameError\u001b[0m                                 Traceback (most recent call last)",
      "Cell \u001b[0;32mIn[13], line 1\u001b[0m\n\u001b[0;32m----> 1\u001b[0m targeted_countries \u001b[38;5;241m=\u001b[39m \u001b[43mfood_df\u001b[49m[\u001b[38;5;124m'\u001b[39m\u001b[38;5;124mCountry\u001b[39m\u001b[38;5;124m'\u001b[39m]\u001b[38;5;241m.\u001b[39munique()\u001b[38;5;241m.\u001b[39mtolist()\n\u001b[1;32m      2\u001b[0m \u001b[38;5;28mprint\u001b[39m(\u001b[38;5;28mlen\u001b[39m(targeted_countries))\n",
      "\u001b[0;31mNameError\u001b[0m: name 'food_df' is not defined"
     ]
    }
   ],
   "source": [
    "targeted_countries = avg_consumption_country['Country'].unique().tolist()\n",
    "print(len(targeted_countries))"
   ]
  },
  {
   "cell_type": "code",
   "execution_count": null,
   "metadata": {
    "vscode": {
     "languageId": "r"
    }
   },
   "outputs": [],
   "source": [
    "# Filter the geojson for EU \n",
    "eu_geojson = {\n",
    "    \"type\": \"FeatureCollection\",\n",
    "    \"features\": [\n",
    "        feature for feature in geojson_data[\"features\"]\n",
    "        if feature[\"properties\"][\"name\"] in targeted_countries\n",
    "    ]\n",
    "}"
   ]
  },
  {
   "cell_type": "code",
   "execution_count": null,
   "metadata": {
    "vscode": {
     "languageId": "r"
    }
   },
   "outputs": [],
   "source": [
    "len(eu_geojson['features'])"
   ]
  },
  {
   "cell_type": "code",
   "execution_count": null,
   "metadata": {
    "vscode": {
     "languageId": "r"
    }
   },
   "outputs": [],
   "source": [
    "# Identify EU countries in the eu_geojson\n",
    "eu_countries_geojson = [feature['properties']['name'] for feature in eu_geojson['features']] "
   ]
  },
  {
   "cell_type": "code",
   "execution_count": null,
   "metadata": {
    "vscode": {
     "languageId": "r"
    }
   },
   "outputs": [],
   "source": [
    "print(eu_countries_geojson)"
   ]
  },
  {
   "cell_type": "code",
   "execution_count": null,
   "metadata": {
    "vscode": {
     "languageId": "r"
    }
   },
   "outputs": [],
   "source": [
    "# Save en_countries_geojson as dataframe \n",
    "eu_countries_df = pd.DataFrame(eu_countries_geojson, columns=['Country']) "
   ]
  },
  {
   "cell_type": "markdown",
   "metadata": {},
   "source": [
    "### Merging Multiple Source Data"
   ]
  },
  {
   "cell_type": "code",
   "execution_count": null,
   "metadata": {
    "vscode": {
     "languageId": "r"
    }
   },
   "outputs": [],
   "source": [
    "# Merge eu_countries_df with avg_consumption_country on Country\n",
    "eu_avg_consumption_country = eu_countries_df.merge(avg_consumption_country, on='Country', how='left') "
   ]
  },
  {
   "cell_type": "code",
   "execution_count": null,
   "metadata": {
    "vscode": {
     "languageId": "r"
    }
   },
   "outputs": [],
   "source": [
    "eu_avg_consumption_country.head()"
   ]
  },
  {
   "cell_type": "code",
   "execution_count": null,
   "metadata": {
    "vscode": {
     "languageId": "r"
    }
   },
   "outputs": [],
   "source": [
    "# Merge eu_avg_consumption_country with covid_death_pop_df on Country\n",
    "eu_avg_consumption_covid_death_pop_df = eu_avg_consumption_country.merge(covid_death_pop_df, on='Country', how='left')"
   ]
  },
  {
   "cell_type": "markdown",
   "metadata": {},
   "source": [
    "## Visualizing Maps"
   ]
  },
  {
   "cell_type": "markdown",
   "metadata": {},
   "source": [
    "### Choropleth Map: Fermented Vegetable Consumption in EU countries"
   ]
  },
  {
   "cell_type": "markdown",
   "metadata": {},
   "source": [
    "To change the colors of the areas (countries) separately from the bubbles, use px.choropleth() for the country colors and px.scatter_geo() for the bubbles, then overlay them using go.Figure()."
   ]
  },
  {
   "cell_type": "code",
   "execution_count": null,
   "metadata": {
    "vscode": {
     "languageId": "r"
    }
   },
   "outputs": [],
   "source": [
    "import plotly.express as px\n",
    "import pandas as pd\n",
    "import plotly.graph_objects as go"
   ]
  },
  {
   "cell_type": "code",
   "execution_count": null,
   "metadata": {
    "vscode": {
     "languageId": "r"
    }
   },
   "outputs": [],
   "source": [
    "eu_avg_consumption_covid_death_pop_df.columns "
   ]
  },
  {
   "cell_type": "code",
   "execution_count": null,
   "metadata": {
    "vscode": {
     "languageId": "r"
    }
   },
   "outputs": [],
   "source": [
    "eu_avg_consumption_covid_death_pop_df.head()"
   ]
  },
  {
   "cell_type": "code",
   "execution_count": null,
   "metadata": {
    "vscode": {
     "languageId": "r"
    }
   },
   "outputs": [],
   "source": [
    "# Drop rows with Inf values in Death Rate column\n",
    "eu_avg_consumption_covid_death_pop_df = eu_avg_consumption_covid_death_pop_df[eu_avg_consumption_covid_death_pop_df['Death Rate'] != np.inf]"
   ]
  },
  {
   "cell_type": "markdown",
   "metadata": {},
   "source": [
    "### Getting ISO country codes"
   ]
  },
  {
   "cell_type": "code",
   "execution_count": null,
   "metadata": {
    "scrolled": true,
    "vscode": {
     "languageId": "r"
    }
   },
   "outputs": [],
   "source": [
    "import pycountry\n",
    "\n",
    "# List of EU countries\n",
    "eu_countries = eu_avg_consumption_covid_death_pop_df['Country'].unique().tolist()   \n",
    "\n",
    "# Dictionary of country names and their corresponding alpha_3 codes\n",
    "country_alpha3 = {}\n",
    "for country in eu_countries:\n",
    "    try:\n",
    "        country_data = pycountry.countries.get(name=country)\n",
    "        # print(country_data.alpha_3)\n",
    "        country_alpha3[country] = country_data.alpha_3\n",
    "    except:\n",
    "        print(f\"{country} not found\")\n",
    "\n",
    "print(country_alpha3)\n"
   ]
  },
  {
   "cell_type": "code",
   "execution_count": null,
   "metadata": {
    "vscode": {
     "languageId": "r"
    }
   },
   "outputs": [],
   "source": [
    "# Add ISO Alpha-3 codes to eu_avg_consumption_covid_death_pop_df\n",
    "eu_avg_consumption_covid_death_pop_df['iso_alpha'] = eu_avg_consumption_covid_death_pop_df['Country'].map(country_alpha3)\n"
   ]
  },
  {
   "cell_type": "markdown",
   "metadata": {},
   "source": [
    "### Subset the Data in 2020"
   ]
  },
  {
   "cell_type": "code",
   "execution_count": null,
   "metadata": {
    "vscode": {
     "languageId": "r"
    }
   },
   "outputs": [],
   "source": [
    "data_map_2020 = eu_avg_consumption_covid_death_pop_df[eu_avg_consumption_covid_death_pop_df['Year'] == 2020]"
   ]
  },
  {
   "cell_type": "markdown",
   "metadata": {},
   "source": [
    "### Drawing the Map"
   ]
  },
  {
   "cell_type": "code",
   "execution_count": null,
   "metadata": {
    "vscode": {
     "languageId": "r"
    }
   },
   "outputs": [],
   "source": [
    "# Create a Choropleth map (for country colors) based on fermented vegetable consumption\n",
    "food_map = px.choropleth(\n",
    "    data_map_2020,  # DataFrame containing the data for the map\n",
    "    locations=\"iso_alpha\",  # Column with ISO Alpha-3 country codes for mapping\n",
    "    color=\"Average Consumption\",  # Column to determine the color intensity (fermented vegetable consumption)\n",
    "    hover_name=\"Country\",  # Column to display as hover text (country names)\n",
    "    scope=\"europe\",  # Restrict the map to the European region\n",
    "    projection=\"natural earth\",  # Use the \"natural earth\" projection for the map\n",
    "    color_continuous_scale='Plasma'  # Use the \"Plasma\" color scale for visualizing data\n",
    ")\n",
    "\n",
    "food_map.show()\n"
   ]
  },
  {
   "cell_type": "markdown",
   "metadata": {},
   "source": [
    "### Bubble Overlay: Covid-19 Mortality Rates"
   ]
  },
  {
   "cell_type": "code",
   "execution_count": null,
   "metadata": {
    "vscode": {
     "languageId": "r"
    }
   },
   "outputs": [],
   "source": [
    "# Create a scatter geo map (for bubble overlay) based on Covid-19 mortality rates\n",
    "bubble_map = px.scatter_geo(\n",
    "    data_map_2020,  # DataFrame containing the data for the map\n",
    "    locations=\"iso_alpha\",  # Column with ISO Alpha-3 country codes for mapping\n",
    "    hover_name=\"Country\",  # Column to display as hover text (country names)\n",
    "    size=\"Death Rate\",  # Column to determine the size of the bubbles (Covid-19 mortality rates)\n",
    "    scope=\"europe\",  # Restrict the map to the European region\n",
    "    projection=\"natural earth\",  # Use the \"natural earth\" projection for the map\n",
    "    opacity=0.7,  # Set opacity level for better visibility of overlapping bubbles\n",
    "    size_max=15,  # Set the maximum size for the bubbles\n",
    "    color_continuous_scale=px.colors.sequential.Plasma  # Use the \"Plasma\" color scale for visualizing data\n",
    ")\n",
    "\n",
    "bubble_map.show()"
   ]
  },
  {
   "cell_type": "markdown",
   "metadata": {},
   "source": [
    "### Combining Both Layers"
   ]
  },
  {
   "cell_type": "code",
   "execution_count": null,
   "metadata": {
    "vscode": {
     "languageId": "r"
    }
   },
   "outputs": [],
   "source": [
    "# Combine both layers\n",
    "fig = go.Figure(data=food_map.data + bubble_map.data)"
   ]
  },
  {
   "cell_type": "markdown",
   "metadata": {},
   "source": [
    "### Fine-Tuning the Map for Clarity and Style"
   ]
  },
  {
   "cell_type": "code",
   "execution_count": null,
   "metadata": {
    "vscode": {
     "languageId": "r"
    }
   },
   "outputs": [],
   "source": [
    "# Update layout for the combined map\n",
    "fig.update_geos(\n",
    "    scope=\"europe\",  # Restrict the map to show only European countries\n",
    "    showcoastlines=False,  # Hide coastlines for a cleaner look\n",
    "    showland=True,  # Display land areas\n",
    "    landcolor=\"lightgray\",  # Set the land color to light gray for better contrast\n",
    "    projection_scale=1.5  # Adjust the zoom level of the map\n",
    ")\n",
    "\n",
    "# Update the color scale for the choropleth layer\n",
    "fig.update_layout(\n",
    "    coloraxis_colorbar_title=\"Fermented Vegetable Consumption\",  # Title for the colorbar\n",
    "    coloraxis_colorscale=\"RdYlBu\",  # Use the \"Red-Yellow-Blue\" color scale\n",
    "    width=1200,  # Set the width of the figure\n",
    "    height=800,  # Set the height of the figure\n",
    "    coloraxis_colorbar=dict(\n",
    "        orientation=\"h\",  # Set the colorbar orientation to horizontal\n",
    "        title=\"Fermented Vegetable Consumption\",  # Title for the colorbar\n",
    "        title_side=\"top\",  # Position the title above the colorbar\n",
    "        title_font_size=12,  # Set the font size for the title\n",
    "        thickness=10,  # Adjust the thickness of the colorbar\n",
    "        len=0.5,  # Set the relative length of the colorbar\n",
    "        x=0.25,  # Position the colorbar horizontally (relative to the figure)\n",
    "        y=0.95,  # Position the colorbar vertically (relative to the figure)\n",
    "    )\n",
    ")\n",
    "\n",
    "# Update the hover template for the scatter layer\n",
    "fig.update_layout(\n",
    "    title=dict(\n",
    "        text=\"Fermented Vegetable Consumption and Covid-19 Death Rate in Europe (2020)\",  # Title of the map\n",
    "        x=0.5,  # Center the title horizontally\n",
    "        y=0.98,  # Position the title slightly above the colorbar\n",
    "        xanchor=\"center\",  # Anchor the title at the center horizontally\n",
    "        yanchor=\"top\",  # Anchor the title at the top vertically\n",
    "        font=dict(\n",
    "            size=18,  # Set the font size for the title\n",
    "            family=\"Arial, sans-serif\",  # Use a professional font family\n",
    "            color=\"black\",  # Set the font color to black\n",
    "            weight=\"bold\"  # Make the title bold for emphasis\n",
    "        )\n",
    "    )\n",
    ")\n",
    "\n",
    "# Update the colorbar layout again (optional adjustment)\n",
    "fig.update_layout(\n",
    "    coloraxis_colorbar=dict(\n",
    "        orientation=\"h\",  # Keep the colorbar horizontal\n",
    "        x=0.5,  # Center the colorbar horizontally below the map\n",
    "        y=-0.15,  # Move the colorbar below the map\n",
    "        len=0.5,  # Set the relative length of the colorbar\n",
    "        thickness=10  # Adjust the thickness of the colorbar\n",
    "    )\n",
    ")\n",
    "\n",
    "# Display the final map\n",
    "fig.show()"
   ]
  },
  {
   "cell_type": "markdown",
   "metadata": {},
   "source": [
    "### Annotating Country Names on the Map"
   ]
  },
  {
   "cell_type": "code",
   "execution_count": null,
   "metadata": {
    "vscode": {
     "languageId": "r"
    }
   },
   "outputs": [],
   "source": [
    "# Annotate country names on the map\n",
    "\n",
    "import pandas as pd\n",
    "\n",
    "# Create the DataFrame\n",
    "country_data = pd.DataFrame({\n",
    "    \"Country\": [\"Austria\", \"Belgium\", \"Bulgaria\", \"Bosnia and Herzegovina\", \"Germany\", \"Estonia\", \"Finland\", \"France\", \"United Kingdom\", \"Greece\", \"Croatia\", \"Hungary\", \"Latvia\", \"Montenegro\", \"Netherlands\", \"Poland\", \"Portugal\", \"Romania\", \"Slovenia\", \"Sweden\"],\n",
    "    \"ISO3\": [\"AUT\", \"BEL\", \"BGR\", \"BIH\", \"DEU\", \"EST\", \"FIN\", \"FRA\", \"GBR\", \"GRC\", \"HRV\", \"HUN\", \"LVA\", \"MNE\", \"NLD\", \"POL\", \"PRT\", \"ROU\", \"SVN\", \"SWE\"],\n",
    "    \"Lat\": [47.5162, 50.5039, 42.7339, 43.9159, 51.1657, 58.5953, 61.9241, 46.6034, 55.3781, 39.0742, 45.1, 47.1625, 56.8796, 42.7087, 52.1326, 51.9194, 39.3999, 45.9432, 46.1512, 60.1282],\n",
    "    \"Lon\": [14.5501, 4.4699, 25.4858, 17.6791, 10.4515, 25.0136, 25.7482, 1.8883, -3.4360, 21.8243, 15.2, 19.5033, 24.6032, 19.3744, 5.2913, 19.1451, -8.2245, 24.9668, 14.9955, 18.6435]\n",
    "})\n",
    "\n",
    "# Display the DataFrame\n",
    "print(country_data)"
   ]
  },
  {
   "cell_type": "code",
   "execution_count": null,
   "metadata": {
    "vscode": {
     "languageId": "r"
    }
   },
   "outputs": [],
   "source": [
    "import plotly.graph_objects as go\n",
    "\n",
    "# Create the country label layer (scattergeo)\n",
    "country_labels = go.Scattergeo(\n",
    "    locationmode=\"ISO-3\",\n",
    "    lon=country_data[\"Lon\"],\n",
    "    lat=country_data[\"Lat\"],\n",
    "    text=country_data[\"Country\"],  # Display country names\n",
    "    mode=\"text\",  # Only text (no markers)\n",
    "    textfont=dict(size=12, color=\"black\", family=\"Arial\", weight=\"bold\"),  # Adjust font\n",
    "    textposition=\"top center\",  \n",
    "    showlegend=False\n",
    ")\n",
    "\n",
    "# Add to your existing Plotly figure\n",
    "fig.add_trace(country_labels)\n"
   ]
  },
  {
   "cell_type": "code",
   "execution_count": null,
   "metadata": {
    "vscode": {
     "languageId": "r"
    }
   },
   "outputs": [],
   "source": [
    "# Add footnote to the map\n",
    "fig.update_layout(\n",
    "    margin=dict(l=50, r=50, t=50, b=200)  # Increase the bottom margin (b) to make space for the footnote\n",
    ")\n",
    "\n",
    "# Add an annotation for the data source and inspiration\n",
    "fig.add_annotation(\n",
    "    text=\"Data source: The population data, Covid-19 mortality, and fermented food consumption data is from Eurostat, Johns Hopkins Coronavirus Resource Center,<br>\"\n",
    "         \"and European Food Safety Authority (EFSA) Comprehensive European Food Consumption Database, respectively.<br>\"\n",
    "         \"The map is inspired by the preprint, Association between consumption of fermented vegetables and COVID-19 mortality at a country level in Europe, by Fonseca et al. (2020).\",  # Footnote text\n",
    "    xref=\"paper\",  # Reference the x-coordinate relative to the entire figure\n",
    "    yref=\"paper\",  # Reference the y-coordinate relative to the entire figure\n",
    "    x=0.5,  # Position the annotation horizontally at the center of the figure\n",
    "    y=-0.3,  # Position the annotation below the figure\n",
    "    showarrow=False,  # No arrow is needed for the annotation\n",
    "    font=dict(size=12, color=\"grey\", family=\"Arial\"),  # Set the font size, color, and family for the annotation text\n",
    "    align=\"left\"  # Align the text to the left for better readability\n",
    ")\n",
    "\n",
    "fig.show()"
   ]
  },
  {
   "cell_type": "markdown",
   "metadata": {},
   "source": [
    "### Exporting the Map"
   ]
  },
  {
   "cell_type": "code",
   "execution_count": null,
   "metadata": {
    "vscode": {
     "languageId": "r"
    }
   },
   "outputs": [],
   "source": [
    "# Save the Plotly figure as HTML file  \n",
    "pio.write_html(fig, file='index.html', auto_open=True)"
   ]
  },
  {
   "cell_type": "code",
   "execution_count": null,
   "metadata": {
    "vscode": {
     "languageId": "r"
    }
   },
   "outputs": [],
   "source": [
    "pio.write_image(fig, 'fermented_vegetable_consumption_covid_death_rate_europe_2020.png', format='png', width=1200, height=800, scale=2) # Save as PNG"
   ]
  }
 ],
 "metadata": {
  "kernelspec": {
   "display_name": "Python 3 (ipykernel)",
   "language": "python",
   "name": "python3"
  },
  "language_info": {
   "codemirror_mode": {
    "name": "ipython",
    "version": 3
   },
   "file_extension": ".py",
   "mimetype": "text/x-python",
   "name": "python",
   "nbconvert_exporter": "python",
   "pygments_lexer": "ipython3",
   "version": "3.12.2"
  }
 },
 "nbformat": 4,
 "nbformat_minor": 4
}
